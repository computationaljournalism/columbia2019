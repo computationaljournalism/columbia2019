{
 "cells": [
  {
   "cell_type": "markdown",
   "metadata": {},
   "source": [
    "## Wishlist\n",
    "\n",
    "- NBViewer from a gist\n",
    "\n",
    "- counts of unique values of a categorical data in a column\n",
    "\n",
    "e.g. df['col'].value_counts()\n",
    "\n",
    "- what is `reset_index()` doing?\n",
    "\n",
    "- transpose\n",
    "\n",
    "- convert types: int to string, string to datetime, string to float, etc\n",
    "\n",
    "- create new dataframe from subsetting\n",
    "\n",
    "- which bracket to use? [], {}, ()??\n",
    "\n",
    "- how to combine rows like 'Barr', 'William Barr' into a single row?\n",
    "\n",
    "- can you do 1-index instead of 0-index?\n",
    "\n",
    "- how to save various data to file? DataFrames, json, etc.\n",
    "\n",
    "- how to get rid of NaN?\n",
    "\n",
    "- some examples of how to create DataFrames\n",
    "\n",
    "- is there a vlookup equiv to query DataFrames?\n",
    "\n",
    "- example of 'vlookup for comparisons'\n",
    "\n",
    "- grouping / e.g. number of tweets from a particular user vs number of RTs?\n",
    "\n",
    "- how to change the max rows/cols/#-of-characters? `set_options()`\n",
    "\n",
    "- how to remove/delete a column or row?\n",
    "\n",
    "- how to list out all of the non-unique entries in a column?\n",
    "\n",
    "- see tweets from ppl who tweeted more than x times (not just counts)\n",
    "\n",
    "- how to split a column in two? e.g. using only the first three characters from a given column.\n",
    "\n",
    "- what are the methods to search within a DataFrame?\n",
    "\n",
    "- explain `iloc`\n",
    "\n",
    "- explain `apply` method\n",
    "\n",
    "- changing string to DateTime example\n",
    "\n",
    "- some examples of summary statistics\n",
    "\n",
    "- fill the Nan and inf float values with ___\n",
    "\n",
    "----\n",
    "- AWS refresher / run notebooks on EC2 instance\n",
    "\n",
    "- example of twitter streaming API"
   ]
  },
  {
   "cell_type": "markdown",
   "metadata": {},
   "source": []
  },
  {
   "cell_type": "code",
   "execution_count": null,
   "metadata": {
    "collapsed": true
   },
   "outputs": [],
   "source": []
  }
 ],
 "metadata": {
  "kernelspec": {
   "display_name": "Python 3",
   "language": "python",
   "name": "python3"
  },
  "language_info": {
   "codemirror_mode": {
    "name": "ipython",
    "version": 3
   },
   "file_extension": ".py",
   "mimetype": "text/x-python",
   "name": "python",
   "nbconvert_exporter": "python",
   "pygments_lexer": "ipython3",
   "version": "3.6.8"
  }
 },
 "nbformat": 4,
 "nbformat_minor": 2
}
